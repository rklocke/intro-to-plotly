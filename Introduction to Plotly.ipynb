{
 "cells": [
  {
   "attachments": {},
   "cell_type": "markdown",
   "id": "8ef16ca8",
   "metadata": {},
   "source": [
    "# Codeschool - Introduction to plotting with Plotly in Python"
   ]
  },
  {
   "attachments": {},
   "cell_type": "markdown",
   "id": "a953c526",
   "metadata": {},
   "source": [
    "### What is Plotly?"
   ]
  },
  {
   "attachments": {},
   "cell_type": "markdown",
   "id": "02ac7d52",
   "metadata": {},
   "source": [
    "Plotly is an interactive and open-source plotting library which has over 40 minute chart types. Plotly itself is a JavaScript library, but there is a Python wrapper which is what will be discussed here."
   ]
  },
  {
   "attachments": {},
   "cell_type": "markdown",
   "id": "211ea192",
   "metadata": {},
   "source": [
    "### Why is Plotly useful?"
   ]
  },
  {
   "attachments": {},
   "cell_type": "markdown",
   "id": "0f4b52ae",
   "metadata": {},
   "source": [
    "* Quick and easy to make graphs (low code/effort)\n",
    "* Very customisable\n",
    "* Can create interactive plots, which is useful when:\n",
    "    * You want to be able to turn certain data series on and off\n",
    "    * You want to be able to zoom into certain parts\n",
    "    * You want to be able to identify specific data points and their values by hovering over them\n",
    "    * You want to be able to save plots either as they are or with specific data series turned off/zoomed to show certain parts\n",
    "    * You want to make pretty plots that look fancy to impress people"
   ]
  },
  {
   "attachments": {},
   "cell_type": "markdown",
   "id": "cf397e53",
   "metadata": {},
   "source": [
    "### Creating figures"
   ]
  },
  {
   "attachments": {},
   "cell_type": "markdown",
   "id": "b8b63e96",
   "metadata": {},
   "source": [
    "* With `plotly.express` for simple, quick plots (`px`)\n",
    "* With `plotly.graph_objects` for more customisation (`go`)\n",
    "* With `plotly.figure_factory` (more advanced)"
   ]
  },
  {
   "attachments": {},
   "cell_type": "markdown",
   "id": "7c7fa0b3",
   "metadata": {},
   "source": [
    "### Format of a Plotly figure"
   ]
  },
  {
   "attachments": {},
   "cell_type": "markdown",
   "id": "cacae96c",
   "metadata": {},
   "source": [
    "3 main components:\n",
    "1. Layout: Dictionary which controls the style of the figure (one per figure)\n",
    "2. Data: List of dictionaries which sets the graph type and holds the data itself\n",
    "    - Data + type = a trace, can be multiple per plot\n",
    "3. Frames: relevant for animated plots"
   ]
  },
  {
   "attachments": {},
   "cell_type": "markdown",
   "id": "e0158301",
   "metadata": {},
   "source": [
    "### plotly.express"
   ]
  },
  {
   "cell_type": "code",
   "execution_count": 10,
   "id": "4f136c21",
   "metadata": {},
   "outputs": [],
   "source": [
    "# Import Plotly express\n",
    "import plotly.express as px\n",
    "\n",
    "# Import pandas for dataframes\n",
    "import pandas as pd"
   ]
  },
  {
   "attachments": {},
   "cell_type": "markdown",
   "id": "03a2ebd2",
   "metadata": {},
   "source": [
    "### plotly.graph_objecys"
   ]
  },
  {
   "cell_type": "code",
   "execution_count": null,
   "id": "21e8339c",
   "metadata": {},
   "outputs": [],
   "source": [
    "\n",
    "# Import Plotly graph objects\n",
    "import plotly.graph_objects as go"
   ]
  },
  {
   "attachments": {},
   "cell_type": "markdown",
   "id": "af0b6ddc",
   "metadata": {},
   "source": [
    "### Example - TAT audit"
   ]
  },
  {
   "attachments": {},
   "cell_type": "markdown",
   "id": "1886c736",
   "metadata": {},
   "source": [
    "### Example - Gait analysis report"
   ]
  },
  {
   "attachments": {},
   "cell_type": "markdown",
   "id": "7cadd905",
   "metadata": {},
   "source": [
    "### Example - Athena"
   ]
  }
 ],
 "metadata": {
  "kernelspec": {
   "display_name": "Python 3 (ipykernel)",
   "language": "python",
   "name": "python3"
  },
  "language_info": {
   "codemirror_mode": {
    "name": "ipython",
    "version": 3
   },
   "file_extension": ".py",
   "mimetype": "text/x-python",
   "name": "python",
   "nbconvert_exporter": "python",
   "pygments_lexer": "ipython3",
   "version": "3.10.6"
  }
 },
 "nbformat": 4,
 "nbformat_minor": 5
}
